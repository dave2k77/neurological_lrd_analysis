{
  "cells": [
    {
      "cell_type": "markdown",
      "metadata": {},
      "source": [
        "# Hurst Estimator Creation, Usage, and Validation\n",
        "\n",
        "**Author:** Davian R. Chin (PhD Candidate in Biomedical Engineering, University of Reading, UK)  \n",
        "**Email:** d.r.chin@pgr.reading.ac.uk  \n",
        "**ORCiD:** [https://orcid.org/0009-0003-9434-3919](https://orcid.org/0009-0003-9434-3919)  \n",
        "**Research Focus:** Physics-Informed Fractional Operator Learning for Real-Time Neurological Biomarker Detection\n",
        "\n",
        "---\n",
        "\n",
        "## Overview\n",
        "\n",
        "This comprehensive tutorial demonstrates how to create, use, and validate Hurst estimators using the Neurological LRD Analysis library. We'll cover:\n",
        "\n",
        "1. **Estimator Factory Usage** - Creating and using built-in estimators\n",
        "2. **Custom Estimator Development** - Building your own estimators\n",
        "3. **Estimator Validation** - Testing accuracy and reliability\n",
        "4. **Performance Comparison** - Benchmarking different methods\n",
        "5. **Uncertainty Quantification** - Confidence intervals and error estimation\n",
        "6. **Best Practices** - Guidelines for reliable estimation\n",
        "\n",
        "This notebook is essential for researchers developing new estimation methods or validating existing ones for biomedical applications.\n"
      ]
    },
    {
      "cell_type": "markdown",
      "metadata": {},
      "source": [
        "## 1. Understanding Hurst Estimators\n",
        "\n",
        "### What are Hurst Estimators?\n",
        "\n",
        "Hurst estimators are mathematical methods used to quantify long-range dependence in time series data. The Hurst exponent (H) characterizes the persistence or anti-persistence of a time series:\n",
        "\n",
        "- **H = 0.5**: Random walk (no long-range dependence)\n",
        "- **H > 0.5**: Persistent behavior (positive correlations)\n",
        "- **H < 0.5**: Anti-persistent behavior (negative correlations)\n",
        "\n",
        "### Types of Estimators\n",
        "\n",
        "The Neurological LRD Analysis library provides several categories of estimators:\n",
        "\n",
        "1. **Temporal Methods**: R/S Analysis, Detrended Fluctuation Analysis (DFA), Higuchi Method\n",
        "2. **Spectral Methods**: Periodogram, Geweke-Porter-Hudak (GPH), Whittle Maximum Likelihood\n",
        "3. **Wavelet Methods**: Discrete Wavelet Transform (DWT), Continuous Wavelet Transform (CWT)\n",
        "4. **Multifractal Methods**: Multifractal Detrended Fluctuation Analysis (MFDFA)\n",
        "\n",
        "### Validation Requirements\n",
        "\n",
        "When validating estimators, we need to consider:\n",
        "- **Accuracy**: How close are estimates to true values?\n",
        "- **Precision**: How consistent are repeated estimates?\n",
        "- **Robustness**: How well do they handle contaminated data?\n",
        "- **Computational Efficiency**: How fast are they?\n",
        "- **Uncertainty Quantification**: Can we provide confidence intervals?\n"
      ]
    },
    {
      "cell_type": "code",
      "execution_count": null,
      "metadata": {},
      "outputs": [],
      "source": [
        "# Import required libraries\n",
        "import numpy as np\n",
        "import matplotlib.pyplot as plt\n",
        "import seaborn as sns\n",
        "import pandas as pd\n",
        "import time\n",
        "from scipy import stats\n",
        "from sklearn.metrics import mean_squared_error, mean_absolute_error\n",
        "import warnings\n",
        "warnings.filterwarnings('ignore')\n",
        "\n",
        "# Set plotting style\n",
        "plt.style.use('seaborn-v0_8')\n",
        "sns.set_palette(\"husl\")\n",
        "plt.rcParams['figure.figsize'] = (12, 8)\n",
        "plt.rcParams['font.size'] = 12\n"
      ]
    },
    {
      "cell_type": "code",
      "execution_count": null,
      "metadata": {},
      "outputs": [],
      "source": [
        "# Import the Neurological LRD Analysis library\n",
        "try:\n",
        "    from neurological_lrd_analysis import (\n",
        "        BiomedicalHurstEstimatorFactory,\n",
        "        EstimatorType,\n",
        "        ConfidenceMethod,\n",
        "        HurstResult,\n",
        "        fbm_davies_harte,\n",
        "        generate_fgn,\n",
        "        add_contamination\n",
        "    )\n",
        "    print(\"✅ Neurological LRD Analysis library imported successfully!\")\n",
        "    print(\"📦 Available estimator types:\")\n",
        "    for estimator in EstimatorType:\n",
        "        print(f\"   - {estimator.value}\")\n",
        "except ImportError as e:\n",
        "    print(f\"❌ Import error: {e}\")\n",
        "    print(\"Please install the library with: pip install neurological-lrd-analysis\")\n"
      ]
    }
  ],
  "metadata": {
    "language_info": {
      "name": "python"
    }
  },
  "nbformat": 4,
  "nbformat_minor": 2
}

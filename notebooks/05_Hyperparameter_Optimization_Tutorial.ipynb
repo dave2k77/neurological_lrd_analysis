{
  "cells": [
    {
      "cell_type": "markdown",
      "metadata": {},
      "source": [
        "# Hyperparameter Optimization with Optuna\n",
        "\n",
        "**Author:** Davian R. Chin (PhD Candidate in Biomedical Engineering, University of Reading, UK)  \n",
        "**Email:** d.r.chin@pgr.reading.ac.uk  \n",
        "**ORCiD:** [https://orcid.org/0009-0003-9434-3919](https://orcid.org/0009-0003-9434-3919)  \n",
        "**Research Focus:** Physics-Informed Fractional Operator Learning for Real-Time Neurological Biomarker Detection\n",
        "\n",
        "---\n",
        "\n",
        "## Overview\n",
        "\n",
        "This tutorial demonstrates how to use Optuna for hyperparameter optimization in the Neurological LRD Analysis library. We'll cover:\n",
        "\n",
        "1. **Optuna Integration** (Study creation and optimization)\n",
        "2. **Hyperparameter Spaces** (Defining search spaces for different models)\n",
        "3. **Optimization Strategies** (Different optimization algorithms)\n",
        "4. **Multi-Objective Optimization** (Balancing accuracy vs speed)\n",
        "5. **Visualization** (Optimization progress and results)\n",
        "6. **Best Practices** (Tips for effective hyperparameter tuning)\n",
        "\n",
        "This notebook is designed for researchers who want to maximize the performance of their ML models for Hurst exponent estimation.\n"
      ]
    }
  ],
  "metadata": {
    "language_info": {
      "name": "python"
    }
  },
  "nbformat": 4,
  "nbformat_minor": 2
}

{
  "cells": [
    {
      "cell_type": "markdown",
      "metadata": {},
      "source": [
        "# Pretrained Models and Inference Systems\n",
        "\n",
        "**Author:** Davian R. Chin (PhD Candidate in Biomedical Engineering, University of Reading, UK)  \n",
        "**Email:** d.r.chin@pgr.reading.ac.uk  \n",
        "**ORCiD:** [https://orcid.org/0009-0003-9434-3919](https://orcid.org/0009-0003-9434-3919)  \n",
        "**Research Focus:** Physics-Informed Fractional Operator Learning for Real-Time Neurological Biomarker Detection\n",
        "\n",
        "---\n",
        "\n",
        "## Overview\n",
        "\n",
        "This tutorial demonstrates how to use the pretrained model system in the Neurological LRD Analysis library. We'll cover:\n",
        "\n",
        "1. **Model Training** (Creating and training model suites)\n",
        "2. **Model Storage** (Efficient model persistence and metadata)\n",
        "3. **Model Loading** (Loading pretrained models for inference)\n",
        "4. **Inference Systems** (Single, batch, and ensemble predictions)\n",
        "5. **Model Management** (Organizing and tracking model versions)\n",
        "6. **Production Deployment** (Best practices for production systems)\n",
        "\n",
        "This notebook is designed for practitioners who need efficient model deployment and inference for Hurst exponent estimation.\n"
      ]
    }
  ],
  "metadata": {
    "language_info": {
      "name": "python"
    }
  },
  "nbformat": 4,
  "nbformat_minor": 2
}
